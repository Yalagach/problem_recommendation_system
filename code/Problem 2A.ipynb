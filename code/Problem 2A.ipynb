{
 "cells": [
  {
   "cell_type": "code",
   "execution_count": 1,
   "metadata": {},
   "outputs": [],
   "source": [
    "import numpy as np\n",
    "import csv"
   ]
  },
  {
   "cell_type": "code",
   "execution_count": 2,
   "metadata": {},
   "outputs": [],
   "source": [
    "#file reading\n",
    "problem_data = []\n",
    "train_subs = []\n",
    "\n",
    "with open(\"train/problem_data.csv\") as fproblem:\n",
    "    reader = csv.reader(fproblem)\n",
    "    for line in reader:\n",
    "        problem_data.append(line)\n",
    "    problem_data = problem_data[1:]\n",
    "        \n",
    "with open(\"train/train_submissions.csv\") as ftrain:\n",
    "    reader = csv.reader(ftrain)\n",
    "    for line in reader:\n",
    "        train_subs.append(line)\n",
    "    train_subs = train_subs[1:]"
   ]
  },
  {
   "cell_type": "code",
   "execution_count": 3,
   "metadata": {},
   "outputs": [],
   "source": [
    "#imputation of level_type with mode value\n",
    "for i in problem_data:\n",
    "    if i[1] == '':\n",
    "        i[1] = 'A'"
   ]
  },
  {
   "cell_type": "code",
   "execution_count": 4,
   "metadata": {},
   "outputs": [],
   "source": [
    "#3rd column indicates how difficult was the problem to the user\n",
    "#similarly, 4th column indicates how easy was the problem to the user\n",
    "\n",
    "for s, subs in enumerate(train_subs):\n",
    "    train_subs[s].append(7-int(subs[2]))"
   ]
  },
  {
   "cell_type": "code",
   "execution_count": 5,
   "metadata": {},
   "outputs": [
    {
     "name": "stdout",
     "output_type": "stream",
     "text": [
      "['', 'geometry', 'divide and conquer', 'combinatorics', 'sortings', 'meet-in-the-middle', 'string suffix structures', 'bitmasks', 'probabilities', 'data structures', '2-sat', 'brute force', 'shortest paths', 'matrices', 'chinese remainder theorem', 'dsu', 'dfs and similar', 'two pointers', 'math', 'constructive algorithms', 'number theory', 'dp', 'graph matchings', 'hashing', 'flows', '*special', 'ternary search', 'expression parsing', 'trees', 'strings', 'graphs', 'games', 'greedy', 'implementation', 'binary search', 'schedules', 'fft']\n"
     ]
    }
   ],
   "source": [
    "tags = set()\n",
    "for i in [i[3].split(',') for i in problem_data]:\n",
    "    for j in i:\n",
    "        tags.add(j)\n",
    "tags = list(tags)\n",
    "print(tags)"
   ]
  },
  {
   "cell_type": "code",
   "execution_count": 6,
   "metadata": {},
   "outputs": [],
   "source": [
    "#unique users extraction\n",
    "unique_users = list(set(list(map(list, zip(*(train_subs))))[0]))"
   ]
  },
  {
   "cell_type": "code",
   "execution_count": 7,
   "metadata": {},
   "outputs": [],
   "source": [
    "problem_matrix = np.zeros((len(problem_data), len(tags)))\n",
    "\n",
    "for p, problem in enumerate(problem_data):\n",
    "    present_tags = list(problem[3].split(','))\n",
    "    for t, tag in enumerate(tags):\n",
    "        if tag in present_tags:\n",
    "            problem_matrix[p, t] = 1"
   ]
  },
  {
   "cell_type": "code",
   "execution_count": 8,
   "metadata": {},
   "outputs": [],
   "source": [
    "#previously solved problmes by users\n",
    "prev_solved = [[] for _ in unique_users]\n",
    "\n",
    "#(difficulty)user_profile creation\n",
    "diff_matrix = np.zeros((len(unique_users), len(problem_data), len(tags)))\n",
    "diff_profile = np.zeros((len(unique_users), len(tags)))\n",
    "\n",
    "present_tags = []\n",
    "\n",
    "for u, user in enumerate(unique_users):\n",
    "    #print('for user :', user)\n",
    "    for subs in train_subs:\n",
    "        if subs[0] == user:\n",
    "            #print('found user in train_subs')\n",
    "            prev_solved[u].append(subs[1])\n",
    "            for p, problem in enumerate(problem_data):\n",
    "                if subs[1] == problem[0]:\n",
    "                    #print('matching problem :', subs[1])\n",
    "                    diff_matrix[u, p] = int(subs[2]) * problem_matrix[p]\n",
    "                    #print(diff_matrix[u, p])\n",
    "                    break\n",
    "                    \n",
    "#user_profile creation\n",
    "for u, user in enumerate(unique_users):\n",
    "    diff_profile[u] = diff_matrix[u].sum(axis = 0)\n",
    "                    \n",
    "#normalization\n",
    "for u, user in enumerate(diff_profile):\n",
    "    denom = sum(user)\n",
    "    if denom != 0:\n",
    "        diff_profile[u] = [i/denom for i in user]"
   ]
  },
  {
   "cell_type": "code",
   "execution_count": 9,
   "metadata": {},
   "outputs": [],
   "source": [
    "#previously solved problmes by users\n",
    "prev_solved = [[] for _ in unique_users]\n",
    "\n",
    "#(difficulty)user_profile creation\n",
    "easy_matrix = np.zeros((len(unique_users), len(problem_data), len(tags)))\n",
    "easy_profile = np.zeros((len(unique_users), len(tags)))\n",
    "\n",
    "present_tags = []\n",
    "\n",
    "for u, user in enumerate(unique_users):\n",
    "    #print('for user :', user)\n",
    "    for subs in train_subs:\n",
    "        if subs[0] == user:\n",
    "            #print('found user in train_subs')\n",
    "            prev_solved[u].append(subs[1])\n",
    "            for p, problem in enumerate(problem_data):\n",
    "                if subs[1] == problem[0]:\n",
    "                    #print('matching problem :', subs[1])\n",
    "                    easy_matrix[u, p] = int(subs[3]) * problem_matrix[p]\n",
    "                    #print(diff_matrix[u, p])\n",
    "                    break\n",
    "                    \n",
    "#user_profile creation\n",
    "for u, user in enumerate(unique_users):\n",
    "    easy_profile[u] = easy_matrix[u].sum(axis = 0)\n",
    "                    \n",
    "#normalization\n",
    "for u, user in enumerate(easy_profile):\n",
    "    denom = sum(user)\n",
    "    if denom != 0:\n",
    "        easy_profile[u] = [i/denom for i in user]"
   ]
  },
  {
   "cell_type": "code",
   "execution_count": 11,
   "metadata": {},
   "outputs": [
    {
     "name": "stdout",
     "output_type": "stream",
     "text": [
      "user_id(number) : 3311\n",
      "number of recommendations required : 5\n",
      "recommended problems to be easier(E) or difficult(D) : E\n",
      "\n",
      "recommended problems :  ['prob_2691', 'prob_5664', 'prob_1991', 'prob_5425', 'prob_5596']\n"
     ]
    }
   ],
   "source": [
    "user_query = 'user_' + input('user_id(number) : ')\n",
    "k  = int(input('number of recommendations required : '))\n",
    "flag = 1\n",
    "\n",
    "#profile of queried user\n",
    "while(flag):\n",
    "    DorE = input('recommended problems to be easier(E) or difficult(D) : ')\n",
    "    if DorE == 'D':\n",
    "        profile = diff_profile\n",
    "        flag = 0\n",
    "    elif DorE == 'E':\n",
    "        profile = easy_profile\n",
    "        flag = 0\n",
    "        \n",
    "recommendation = []\n",
    "\n",
    "for p, problem in enumerate(problem_data):\n",
    "    user_query_index = unique_users.index(user_query)\n",
    "    if problem[0] not in prev_solved[user_query_index]:\n",
    "        recommendation.append((problem[0], np.sum((profile[user_query_index]) * (problem_matrix[p]))))\n",
    "    \n",
    "#profile sorted acording to their dot product values\n",
    "recommendation = [index for index, value in sorted(recommendation, reverse=True, key=lambda x:x[1])]\n",
    "\n",
    "#final recommendation list calculation based on value of k\n",
    "recommendation = recommendation[:k]\n",
    "print('\\nrecommended problems : ', recommendation)"
   ]
  },
  {
   "cell_type": "code",
   "execution_count": null,
   "metadata": {},
   "outputs": [],
   "source": []
  }
 ],
 "metadata": {
  "kernelspec": {
   "display_name": "Python 3",
   "language": "python",
   "name": "python3"
  },
  "language_info": {
   "codemirror_mode": {
    "name": "ipython",
    "version": 3
   },
   "file_extension": ".py",
   "mimetype": "text/x-python",
   "name": "python",
   "nbconvert_exporter": "python",
   "pygments_lexer": "ipython3",
   "version": "3.6.5"
  }
 },
 "nbformat": 4,
 "nbformat_minor": 2
}
